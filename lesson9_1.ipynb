{
 "cells": [
  {
   "cell_type": "code",
   "execution_count": 1,
   "metadata": {},
   "outputs": [
    {
     "name": "stdout",
     "output_type": "stream",
     "text": [
      "犬汪\n",
      "78\n",
      "99\n",
      "95\n"
     ]
    }
   ],
   "source": [
    "#使用dictionary建立一筆資料\n",
    "#建立dict的實體\n",
    "student:dict[str,any] = {\n",
    "    'name':'犬汪',\n",
    "    '國文':78,\n",
    "    '英文':99,\n",
    "    '數學':95\n",
    "}\n",
    "print(student['name'])\n",
    "print(student['國文'])\n",
    "print(student['英文'])\n",
    "print(student['數學'])"
   ]
  },
  {
   "cell_type": "code",
   "execution_count": 2,
   "metadata": {},
   "outputs": [
    {
     "name": "stdout",
     "output_type": "stream",
     "text": [
      "10\n",
      "20\n",
      "30\n"
     ]
    }
   ],
   "source": [
    "#建立list實體\n",
    "\n",
    "values:list[int] = [10, 20, 30]\n",
    "print(values[0])\n",
    "print(values[1])\n",
    "print(values[2])"
   ]
  },
  {
   "cell_type": "code",
   "execution_count": 1,
   "metadata": {},
   "outputs": [
    {
     "name": "stdout",
     "output_type": "stream",
     "text": [
      "10\n",
      "20\n",
      "30\n"
     ]
    }
   ],
   "source": [
    "values:list[int] = [10, 20, 30]\n",
    "for value in values:\n",
    "    print(value)"
   ]
  },
  {
   "cell_type": "code",
   "execution_count": 2,
   "metadata": {},
   "outputs": [
    {
     "name": "stdout",
     "output_type": "stream",
     "text": [
      "<class 'str'>\n",
      "key=name\n",
      "value=犬汪\n",
      "=========\n",
      "<class 'str'>\n",
      "key=國文\n",
      "value=98\n",
      "=========\n",
      "<class 'str'>\n",
      "key=英文\n",
      "value=95\n",
      "=========\n",
      "<class 'str'>\n",
      "key=數學\n",
      "value=91\n",
      "=========\n"
     ]
    }
   ],
   "source": [
    "student:dict[str,any] = {\n",
    "    'name':'犬汪',\n",
    "    '國文':98,\n",
    "    '英文':95,\n",
    "    '數學':91\n",
    "}\n",
    "\n",
    "for key in student:\n",
    "    print(type(key))\n",
    "    print(f'key={key}')\n",
    "    print(f'value={student[key]}')\n",
    "    print(\"=========\")"
   ]
  },
  {
   "cell_type": "code",
   "execution_count": 3,
   "metadata": {},
   "outputs": [
    {
     "name": "stdout",
     "output_type": "stream",
     "text": [
      "404\n",
      "沒有網頁發現\n"
     ]
    }
   ],
   "source": [
    "#tupe的拆解法\n",
    "code, error = 404,'沒有網頁發現'\n",
    "print(code)\n",
    "print(error)"
   ]
  },
  {
   "cell_type": "code",
   "execution_count": 4,
   "metadata": {},
   "outputs": [
    {
     "name": "stdout",
     "output_type": "stream",
     "text": [
      "索引編號:0\n",
      "值是:10\n",
      "===========\n",
      "索引編號:1\n",
      "值是:20\n",
      "===========\n",
      "索引編號:2\n",
      "值是:30\n",
      "===========\n"
     ]
    }
   ],
   "source": [
    "values:list[int] = [10, 20, 30]\n",
    "for idx,value in enumerate(values):\n",
    "    print(f'索引編號:{idx}')\n",
    "    print(f'值是:{value}')\n",
    "    print(\"===========\")"
   ]
  },
  {
   "cell_type": "code",
   "execution_count": 7,
   "metadata": {},
   "outputs": [
    {
     "data": {
      "text/plain": [
       "{'name': '犬汪', '國文': 98, '英文': 95, '數學': 91}"
      ]
     },
     "execution_count": 7,
     "metadata": {},
     "output_type": "execute_result"
    }
   ],
   "source": [
    "student:dict[str,any] = {\n",
    "    'name':'犬汪',\n",
    "    '國文':98,\n",
    "    '英文':95,\n",
    "    '數學':91\n",
    "}\n",
    "student"
   ]
  },
  {
   "cell_type": "code",
   "execution_count": 8,
   "metadata": {},
   "outputs": [
    {
     "name": "stdout",
     "output_type": "stream",
     "text": [
      "name\n",
      "國文\n",
      "英文\n",
      "數學\n"
     ]
    }
   ],
   "source": [
    "for key in student.keys():\n",
    "    print(key)"
   ]
  },
  {
   "cell_type": "code",
   "execution_count": 9,
   "metadata": {},
   "outputs": [
    {
     "name": "stdout",
     "output_type": "stream",
     "text": [
      "犬汪\n",
      "98\n",
      "95\n",
      "91\n"
     ]
    }
   ],
   "source": [
    "for value in student.values():\n",
    "    print(value)"
   ]
  },
  {
   "cell_type": "code",
   "execution_count": 10,
   "metadata": {},
   "outputs": [
    {
     "name": "stdout",
     "output_type": "stream",
     "text": [
      "name\n",
      "犬汪\n",
      "==========\n",
      "國文\n",
      "98\n",
      "==========\n",
      "英文\n",
      "95\n",
      "==========\n",
      "數學\n",
      "91\n",
      "==========\n"
     ]
    }
   ],
   "source": [
    "for key,value in student.items():\n",
    "    print(key)\n",
    "    print(value)\n",
    "    print(\"==========\")"
   ]
  },
  {
   "cell_type": "code",
   "execution_count": 2,
   "metadata": {},
   "outputs": [],
   "source": [
    "students:list[dict] = [\n",
    "    {'name':'犬汪','國文':98,'英文':90,'數學':81},\n",
    "    {'name':'喵喵','國文':88,'英文':95,'數學':92},\n",
    "    {'name':'水豚','國文':78,'英文':97,'數學':93}\n",
    "]"
   ]
  },
  {
   "cell_type": "code",
   "execution_count": 3,
   "metadata": {},
   "outputs": [
    {
     "name": "stdout",
     "output_type": "stream",
     "text": [
      "key=name,value=犬汪\n",
      "key=國文,value=98\n",
      "key=英文,value=90\n",
      "key=數學,value=81\n",
      "==============\n",
      "key=name,value=喵喵\n",
      "key=國文,value=88\n",
      "key=英文,value=95\n",
      "key=數學,value=92\n",
      "==============\n",
      "key=name,value=水豚\n",
      "key=國文,value=78\n",
      "key=英文,value=97\n",
      "key=數學,value=93\n",
      "==============\n"
     ]
    }
   ],
   "source": [
    "for student in students:\n",
    "    for key,value in student.items():\n",
    "        print(f'key={key},value={value}')\n",
    "        \n",
    "    print(\"==============\")"
   ]
  }
 ],
 "metadata": {
  "kernelspec": {
   "display_name": "Python 3",
   "language": "python",
   "name": "python3"
  },
  "language_info": {
   "codemirror_mode": {
    "name": "ipython",
    "version": 3
   },
   "file_extension": ".py",
   "mimetype": "text/x-python",
   "name": "python",
   "nbconvert_exporter": "python",
   "pygments_lexer": "ipython3",
   "version": "3.10.13"
  }
 },
 "nbformat": 4,
 "nbformat_minor": 2
}

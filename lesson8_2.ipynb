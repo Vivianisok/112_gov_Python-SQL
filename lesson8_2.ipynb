{
 "cells": [
  {
   "cell_type": "code",
   "execution_count": 2,
   "metadata": {},
   "outputs": [],
   "source": [
    "students = [{'name':'犬汪', 'chinese':78, 'english':92, 'math':65},\n",
    "            {'name':'喵喵', 'chinese':98, 'english':65, 'math':89},\n",
    "            {'name':'小貓熊', 'chinese':68, 'english':65, 'math':92}]"
   ]
  },
  {
   "cell_type": "code",
   "execution_count": 3,
   "metadata": {},
   "outputs": [
    {
     "name": "stdout",
     "output_type": "stream",
     "text": [
      "犬汪\n",
      "78\n",
      "92\n",
      "65\n",
      "喵喵\n",
      "98\n",
      "65\n",
      "89\n",
      "小貓熊\n",
      "68\n",
      "65\n",
      "92\n"
     ]
    }
   ],
   "source": [
    "for student in students:\n",
    "    for key in student:\n",
    "        print(student[key])"
   ]
  },
  {
   "cell_type": "code",
   "execution_count": 4,
   "metadata": {},
   "outputs": [
    {
     "name": "stdout",
     "output_type": "stream",
     "text": [
      "犬汪\n",
      "78\n",
      "92\n",
      "65\n",
      "==========\n",
      "喵喵\n",
      "98\n",
      "65\n",
      "89\n",
      "==========\n",
      "小貓熊\n",
      "68\n",
      "65\n",
      "92\n",
      "==========\n"
     ]
    }
   ],
   "source": [
    "for student in students:\n",
    "    for key in student:\n",
    "        print(student[key])\n",
    "    print(\"==========\")"
   ]
  }
 ],
 "metadata": {
  "kernelspec": {
   "display_name": "Python 3",
   "language": "python",
   "name": "python3"
  },
  "language_info": {
   "codemirror_mode": {
    "name": "ipython",
    "version": 3
   },
   "file_extension": ".py",
   "mimetype": "text/x-python",
   "name": "python",
   "nbconvert_exporter": "python",
   "pygments_lexer": "ipython3",
   "version": "3.10.13"
  }
 },
 "nbformat": 4,
 "nbformat_minor": 2
}
